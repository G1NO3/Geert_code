{
 "cells": [
  {
   "cell_type": "markdown",
   "metadata": {},
   "source": [
    "# RNN作业\n",
    "\n",
    "本次作业我们将使用PyTorch搭建RNN模型，完成简单的文本分类任务。本次作业的选做题难度较大，仅供有自然语言处理基础且时间充裕的同学完成。\n",
    "\n",
    "截止时间：<font color=ff0000>**5.30(周一)中午** </font>"
   ]
  },
  {
   "cell_type": "markdown",
   "metadata": {},
   "source": [
    "## 一、数据处理\n",
    "\n",
    "首先导入常用软件包。"
   ]
  },
  {
   "cell_type": "markdown",
   "metadata": {},
   "source": [
    "Kernel: pytorch=1.10.0 torchtext=0.11.0 python=3.9"
   ]
  },
  {
   "cell_type": "code",
   "execution_count": 38,
   "metadata": {},
   "outputs": [],
   "source": [
    "import torch\n",
    "import torch.nn as nn\n",
    "from matplotlib import pyplot as plt \n",
    "import os\n",
    "import glob\n",
    "from sklearn.model_selection import train_test_split\n",
    "import spacy\n",
    "import numpy as np\n",
    "import torchtext\n",
    "from torchtext.legacy import data\n",
    "from tqdm import tqdm\n",
    "from copy import deepcopy"
   ]
  },
  {
   "cell_type": "markdown",
   "metadata": {},
   "source": [
    "本次作业使用的数据为torchtext.data中的AG_NEWS，每一行代表一个样本，三列数据分别代表：“类别”，“标题”，“正文”。该数据集中的类别有四种：“World”, “Sports”, “Business”, “Sci/Tech”，分别用数字1-4表示。\n",
    "\n",
    "因为原始数据集较大，截取了其中一部分作为训练集和测试集，train.csv中包含6600条数据，test.csv中包含1000条数据。\n",
    "\n",
    "使用torchtext完成数据的加载，主要使用以下三个组件：\n",
    "\n",
    "1. Field : 主要包含以下数据预处理的配置信息，比如指定分词方法，是否转成小写，起始字符，结束字符，补全字符以及词典等等\n",
    "\n",
    "2. Dataset : 继承自pytorch的Dataset，用于加载数据，提供了TabularDataset可以指点路径，格式，Field信息就可以方便的完成数据加载。同时torchtext还提供预先构建的常用数据集的Dataset对象，可以直接加载使用，splits方法可以同时加载训练集，验证集和测试集。\n",
    "\n",
    "3. Iterator : 主要是数据输出的模型的迭代器，可以支持batch定制\n",
    "\n",
    "如果在使用torchtext的过程中出现报错的情况，一种可能是由于版本问题，相关的类被移动到torchtext.legacy当中"
   ]
  },
  {
   "cell_type": "code",
   "execution_count": 3,
   "metadata": {},
   "outputs": [
    {
     "name": "stdout",
     "output_type": "stream",
     "text": [
      "{'label': '3', 'text': ['Unions', 'representing', 'workers', 'at', 'Turner', 'Newall', 'say', 'they', 'are', \"'disappointed'\", 'after', 'talks', 'with', 'stricken', 'parent', 'firm', 'Federal', 'Mogul.']}\n",
      "{'label': '2', 'text': ['Six', 'players', 'from', 'both', 'Clemson', 'and', 'South', 'Carolina', 'will', 'be', 'suspended', 'for', 'one', 'game', 'next', 'season', 'for', 'their', 'participation', 'in', 'a', 'brawl', 'near', 'the', 'end', 'of', 'the', 'rivalry', 'game', 'November', '20th.']}\n",
      "3\n"
     ]
    }
   ],
   "source": [
    "#def tokenizer(text):\n",
    "    #return [token.text for token in nlp.tokenizer(text)]\n",
    "TEXT = torchtext.legacy.data.Field(sequential=True, batch_first=True, include_lengths=True)\n",
    "LABEL = data.Field(sequential=False, batch_first=True, use_vocab=False)\n",
    "#nlp=spacy.load('en_core_web_sm')\n",
    "\n",
    "fields = [('label', LABEL), (None, None), ('text',TEXT)]  # 通过定义fields可以方便地读取数据，这里第一列为label，第三列为需要分类的text，标题暂时不需要\n",
    "\n",
    "train_data = data.TabularDataset(path='train.csv', format='csv', fields=fields, skip_header=False)\n",
    "test_data = data.TabularDataset(path='test.csv', format='csv', fields=fields, skip_header=False)\n",
    "#print preprocessed text\n",
    "print(vars(train_data.examples[0]))\n",
    "print(vars(test_data.examples[0]))\n",
    "print(train_data[0].label)\n"
   ]
  },
  {
   "cell_type": "markdown",
   "metadata": {},
   "source": [
    "torchtext提供了构建词表的功能：我们使用50维的预训练词向量，建立词典、索引以及对应的词向量映射关系。\n",
    "\n",
    "下载后的预训练词向量会默认存储在“.vector_cache”文件夹中。"
   ]
  },
  {
   "cell_type": "code",
   "execution_count": 5,
   "metadata": {},
   "outputs": [
    {
     "name": "stdout",
     "output_type": "stream",
     "text": [
      "Size of TEXT vocabulary: 8463\n",
      "Size of LABEL vocabulary: 5\n",
      "[('the', 9539), ('a', 5240), ('to', 5228), ('of', 4857), ('in', 4099), ('and', 3620), ('on', 2477), ('-', 2062), ('for', 2026), ('that', 1500)]\n"
     ]
    }
   ],
   "source": [
    "#initialize glove embeddings\n",
    "TEXT.build_vocab(train_data, min_freq=3, vectors=\"glove.6B.50d\")  # 去除低频词，使用50维的预训练词向量\n",
    "LABEL.build_vocab(train_data)\n",
    "\n",
    "#No. of unique tokens in text\n",
    "print(\"Size of TEXT vocabulary:\", len(TEXT.vocab))\n",
    "\n",
    "#No. of unique tokens in label\n",
    "print(\"Size of LABEL vocabulary:\", len(LABEL.vocab))  # 这里长度为5是因为build_vocabulary默认会添加一个<unk> token\n",
    "\n",
    "#Commonly used words\n",
    "print(TEXT.vocab.freqs.most_common(10))  # tuple中第一个元素为单词，第二个元素为对应的索引\n",
    "\n",
    "#Word dictionary\n",
    "#print(TEXT.vocab.stoi)   # stoi可以将单词转换为数字索引"
   ]
  },
  {
   "cell_type": "code",
   "execution_count": 6,
   "metadata": {},
   "outputs": [
    {
     "name": "stdout",
     "output_type": "stream",
     "text": [
      "torch.Size([8463, 50])\n"
     ]
    }
   ],
   "source": [
    "print(TEXT.vocab.vectors.shape)"
   ]
  },
  {
   "cell_type": "code",
   "execution_count": 45,
   "metadata": {},
   "outputs": [],
   "source": [
    "device = torch.device('cuda:0' if torch.cuda.is_available() else 'cpu')  # 有条件的同学可以使用gpu加速训练\n",
    "device='cpu'\n",
    "\n",
    "batch_size = 64\n",
    "\n",
    "# 划分之后的数据集，每个batch中有64个样本\n",
    "train_iterator, test_iterator = data.BucketIterator.splits(\n",
    "    (train_data, test_data),\n",
    "    batch_size=batch_size,\n",
    "    sort_key=lambda x: len(x.text),\n",
    "    sort_within_batch=True,\n",
    "    device=device)"
   ]
  },
  {
   "cell_type": "markdown",
   "metadata": {},
   "source": [
    "### 词向量小练习\n",
    "\n",
    "glove.6B.50d.txt中每一行表示：单词 50维词向量\n",
    "\n",
    "gensim支持word2vec格式，因此需要先转换glove格式的词向量文件"
   ]
  },
  {
   "cell_type": "code",
   "execution_count": 8,
   "metadata": {},
   "outputs": [
    {
     "name": "stderr",
     "output_type": "stream",
     "text": [
      "C:\\Users\\G1\\AppData\\Local\\Temp\\ipykernel_20556\\1157181036.py:8: DeprecationWarning: Call to deprecated `glove2word2vec` (KeyedVectors.load_word2vec_format(.., binary=False, no_header=True) loads GLoVE text vectors.).\n",
      "  (count, dimensions) = glove2word2vec(glove_input_file, word2vec_output_file)\n"
     ]
    }
   ],
   "source": [
    "import gensim\n",
    "from gensim.models import KeyedVectors\n",
    "from gensim.scripts.glove2word2vec import glove2word2vec\n",
    "\n",
    "# 格式转换\n",
    "glove_input_file = '.vector_cache\\glove.6B.50d.txt'\n",
    "word2vec_output_file = '.vector_cache\\glove.6B.50d.word2vec.txt'\n",
    "(count, dimensions) = glove2word2vec(glove_input_file, word2vec_output_file)\n",
    "\n",
    "# 加载词向量\n",
    "glove_model = KeyedVectors.load_word2vec_format(word2vec_output_file, binary=False)"
   ]
  },
  {
   "cell_type": "code",
   "execution_count": 9,
   "metadata": {},
   "outputs": [
    {
     "name": "stdout",
     "output_type": "stream",
     "text": [
      "(400000, 50)\n",
      "12217\n"
     ]
    }
   ],
   "source": [
    "print(glove_model.vectors.shape)\n",
    "print(glove_model.key_to_index['boring'])\n"
   ]
  },
  {
   "cell_type": "markdown",
   "metadata": {},
   "source": [
    "词向量的加减可以得到有趣的结果，一个著名例子是公式：king - man + woman"
   ]
  },
  {
   "cell_type": "code",
   "execution_count": 10,
   "metadata": {},
   "outputs": [
    {
     "name": "stdout",
     "output_type": "stream",
     "text": [
      "[('queen', 0.8523604273796082), ('throne', 0.7664334177970886), ('prince', 0.7592144012451172), ('daughter', 0.7473882436752319), ('elizabeth', 0.7460220456123352), ('princess', 0.7424570322036743), ('kingdom', 0.7337412238121033), ('monarch', 0.721449077129364), ('eldest', 0.7184861898422241), ('widow', 0.7099431157112122)]\n"
     ]
    }
   ],
   "source": [
    "result = glove_model.most_similar(positive=['woman', 'king'], negative=['man']) \n",
    "print(result)"
   ]
  },
  {
   "cell_type": "markdown",
   "metadata": {},
   "source": [
    "**请自由尝试几个其他的词向量加减例子**"
   ]
  },
  {
   "cell_type": "code",
   "execution_count": 11,
   "metadata": {},
   "outputs": [
    {
     "data": {
      "text/plain": [
       "[('henry', 0.8805059790611267),\n",
       " ('edward', 0.8613390922546387),\n",
       " ('sir', 0.8333353400230408),\n",
       " ('william', 0.83282870054245),\n",
       " ('george', 0.8290311694145203),\n",
       " ('john', 0.826171338558197),\n",
       " ('james', 0.8212572932243347),\n",
       " ('charles', 0.8201537728309631),\n",
       " ('margaret', 0.8104661703109741),\n",
       " ('francis', 0.7973147630691528)]"
      ]
     },
     "execution_count": 11,
     "metadata": {},
     "output_type": "execute_result"
    }
   ],
   "source": [
    "# TODO\n",
    "glove_model.most_similar(positive=['elizabeth','man'],negative=['woman'])"
   ]
  },
  {
   "cell_type": "code",
   "execution_count": 12,
   "metadata": {},
   "outputs": [
    {
     "name": "stdout",
     "output_type": "stream",
     "text": [
      "eat\n"
     ]
    }
   ],
   "source": [
    "print(glove_model.doesnt_match(\"beautiful nice eat fabulous\".split()))"
   ]
  },
  {
   "cell_type": "code",
   "execution_count": 13,
   "metadata": {},
   "outputs": [
    {
     "name": "stdout",
     "output_type": "stream",
     "text": [
      "0.7078208\n"
     ]
    }
   ],
   "source": [
    "print(glove_model.similarity('freedom','liberty'))"
   ]
  },
  {
   "cell_type": "code",
   "execution_count": 14,
   "metadata": {},
   "outputs": [
    {
     "data": {
      "text/plain": [
       "[('pastor', 0.8129140138626099),\n",
       " ('priests', 0.8018864989280701),\n",
       " ('bishop', 0.7970655560493469),\n",
       " ('catholic', 0.7919538021087646),\n",
       " ('clergyman', 0.782841145992279),\n",
       " ('ordained', 0.7594713568687439),\n",
       " ('church', 0.7408745288848877),\n",
       " ('clergy', 0.7377505302429199),\n",
       " ('nun', 0.7362511157989502),\n",
       " ('monk', 0.7252494692802429)]"
      ]
     },
     "execution_count": 14,
     "metadata": {},
     "output_type": "execute_result"
    }
   ],
   "source": [
    "glove_model.similar_by_word('priest')"
   ]
  },
  {
   "cell_type": "code",
   "execution_count": 15,
   "metadata": {},
   "outputs": [
    {
     "data": {
      "text/plain": [
       "0.6807771472348287"
      ]
     },
     "execution_count": 15,
     "metadata": {},
     "output_type": "execute_result"
    }
   ],
   "source": [
    "sentence_biden = 'Biden speaks to the media'.lower().split()\n",
    "sentence_president = 'The president of the US greets the press'.lower().split()\n",
    "glove_model.wmdistance(sentence_biden,sentence_president)"
   ]
  },
  {
   "cell_type": "markdown",
   "metadata": {},
   "source": [
    "**请通过合适的方法将词向量降至2或3维，在空间坐标中显示出下列单词的位置，进行词向量可视化**"
   ]
  },
  {
   "cell_type": "code",
   "execution_count": 16,
   "metadata": {},
   "outputs": [
    {
     "name": "stdout",
     "output_type": "stream",
     "text": [
      "(10, 50)\n",
      "(10, 2)\n"
     ]
    },
    {
     "data": {
      "text/plain": [
       "Text(0.5, 1.0, 'Visualization of 50-D word vectors')"
      ]
     },
     "execution_count": 16,
     "metadata": {},
     "output_type": "execute_result"
    },
    {
     "data": {
      "image/png": "[encoded data removed]",
      "text/plain": [
       "<Figure size 432x288 with 1 Axes>"
      ]
     },
     "metadata": {
      "needs_background": "light"
     },
     "output_type": "display_data"
    }
   ],
   "source": [
    "from sklearn.decomposition import PCA\n",
    "\n",
    "words = [\"cat\", \"dog\", \"fish\", \"kitten\", \"man\", \"woman\",\n",
    "         \"king\", \"queen\", \"doctor\", \"nurse\"]\n",
    "wordar=np.zeros(len(words))\n",
    "for i in range(len(words)):\n",
    "    wordar[i]=glove_model.key_to_index[words[i]]\n",
    "wordar=wordar.astype('int32')\n",
    "M=glove_model.vectors[wordar]\n",
    "print(M.shape)\n",
    "pca=PCA(n_components=2)\n",
    "N=pca.fit_transform(M)\n",
    "print(N.shape)\n",
    "plt.scatter(N[:,0],N[:,1])\n",
    "plt.title('Visualization of 50-D word vectors')"
   ]
  },
  {
   "cell_type": "markdown",
   "metadata": {},
   "source": [
    "## 二、RNN模型搭建\n",
    "\n",
    "这里参考课件上的代码搭建了一个简单的RNN模型\n",
    "\n",
    "1. 每次读取一个单词，因此RNN的输入维度为50（即词向量的维度）再加上hidden_size\n",
    "2. 最终的输出维度为4（对应四个类别）\n",
    "3. 初始隐状态可以用零向量\n",
    "\n",
    "有需要的话可以自由修改"
   ]
  },
  {
   "cell_type": "code",
   "execution_count": 69,
   "metadata": {},
   "outputs": [],
   "source": [
    "class RNN(nn.Module):\n",
    "    def __init__(self, embedding_dim=50, hidden_size=128, output_size=4):\n",
    "        super(RNN, self).__init__()\n",
    "        self.hidden_size = hidden_size\n",
    "        self.i2h = nn.Linear(embedding_dim + hidden_size, hidden_size)\n",
    "        self.i2o = nn.Linear(embedding_dim + hidden_size, output_size)\n",
    "        self.softmax = nn.Softmax(dim=1)\n",
    "        \n",
    "    def forward(self, input_, hidden):\n",
    "        combined = torch.cat((input_, hidden), 1)\n",
    "        hidden = self.i2h(combined)\n",
    "        output = self.i2o(combined)\n",
    "        output = self.softmax(output)\n",
    "        return output, hidden\n",
    "        \n",
    "    def init_hidden(self):\n",
    "        return torch.zeros(1, self.hidden_size)  # 初始化全0的隐状态向量"
   ]
  },
  {
   "cell_type": "markdown",
   "metadata": {},
   "source": [
    "## 三、模型训练"
   ]
  },
  {
   "cell_type": "code",
   "execution_count": 46,
   "metadata": {},
   "outputs": [],
   "source": [
    "def train_step(model, batch_data, optimizer, criterion):\n",
    "    optimizer.zero_grad()\n",
    "    total_loss = 0\n",
    "    total_acc = 0\n",
    "\n",
    "    # 载入数据\n",
    "    texts, text_lengths = batch_data.text  # texts当中存储的是单词的数字索引，来自于Field的提取形式\n",
    "    labels = batch_data.label\n",
    "        \n",
    "    #print(labels)\n",
    "    #print(texts, text_lengths)\n",
    "    #print(len(text_lengths))\n",
    "    \n",
    "    for text, label in zip(texts, labels):\n",
    "        hidden = model.init_hidden().to(device)  # 创建一个初始隐状态,大小为1x128\n",
    "        # 每次输入batch中的一个样本\n",
    "        for i in range(len(text)):\n",
    "            embedding = TEXT.vocab.vectors[text[i]]  # 根据text中的数字索引获得对应的词向量，尺寸为(128,)\n",
    "            embedding = embedding.to(device)\n",
    "            # print(embedding)\n",
    "            output, hidden = model(embedding.reshape(1, -1), hidden)  # 变换词向量的维度，使其能和hidden tensor拼接起来\n",
    "        target = (label - 1).unsqueeze(0)  # 原始label是1~4，减1之后对应下标0~3\n",
    "        loss = criterion(output, target)   # 计算loss\n",
    "        loss.backward(retain_graph=True)\n",
    "        \n",
    "        total_loss += loss.item()\n",
    "        \n",
    "        if output.argmax(1) == label - 1:  # 判断模型预测的概率最大的类是否正确,output的维度是1xtext_length\n",
    "            total_acc += 1\n",
    "    \n",
    "    optimizer.step()\n",
    "    \n",
    "    return total_loss / len(batch_data), total_acc / len(batch_data)\n",
    "\n"
   ]
  },
  {
   "cell_type": "code",
   "execution_count": 35,
   "metadata": {},
   "outputs": [
    {
     "name": "stdout",
     "output_type": "stream",
     "text": [
      "torch.Size([1, 2, 3])\n",
      "tensor([2, 2])\n"
     ]
    }
   ],
   "source": [
    "a=torch.tensor([[1,2,3],[4,5,6]])\n",
    "print(a.unsqueeze(0).shape)\n",
    "print(a.argmax(1))"
   ]
  },
  {
   "cell_type": "markdown",
   "metadata": {},
   "source": [
    "在训练过程中，我们希望能够保存效果最好的模型，使用save()和load()函数可以实现模型的保存和加载。\n",
    "\n",
    "参考文档：https://pytorch.org/tutorials/beginner/saving_loading_models.html\n",
    "\n",
    "**请实现：保存训练过程中loss最小的模型**\n",
    "\n",
    "考虑到训练阶段运行时间可能比较长，同学们可以自行选择合适的epoch数。本次作业旨在让大家熟悉基本模型结构，模型最终的表现效果不会成为评分指标。"
   ]
  },
  {
   "cell_type": "code",
   "execution_count": 73,
   "metadata": {},
   "outputs": [],
   "source": [
    "def train(model, iterator, lr=0.01, num_epoch=1):\n",
    "    criterion = nn.CrossEntropyLoss()\n",
    "    optimizer = torch.optim.Adam(model.parameters(), lr=lr)\n",
    "\n",
    "    loss_arr = []\n",
    "    acc_arr = []\n",
    "    epoch_acc = 0\n",
    "    \n",
    "    # set the model in training phase\n",
    "    model.train()\n",
    "    best_state=deepcopy(model.state_dict())\n",
    "    best_epoch=0\n",
    "    min_loss=5\n",
    "    for epoch in range(num_epoch):\n",
    "        mean_acc = []\n",
    "        mean_loss = []\n",
    "        for i, batch_data in enumerate(iterator):\n",
    "            batch_loss, batch_acc = train_step(model, batch_data, optimizer, criterion)\n",
    "            loss_arr.append(batch_loss)\n",
    "            mean_loss.append(batch_loss)\n",
    "            if (i + 1) % 10 == 0:\n",
    "                print(\"Iteration number:\", i + 1,'Loss:', batch_loss, \"Acc:\", batch_acc)\n",
    "            mean_acc.append(batch_acc)\n",
    "            acc_arr.append(batch_acc)\n",
    "            if batch_loss<min_loss:\n",
    "                best_state=deepcopy(model.state_dict())\n",
    "                best_iter=epoch*(6600//64+1)+(i+1)\n",
    "                min_loss=batch_loss\n",
    "        print(\"Epoch Acc:\", np.mean(mean_acc), \"Epoch loss\", np.mean(mean_loss))\n",
    "        \n",
    "        \n",
    "        print('The best model until now from:',best_iter,'Min loss:',min_loss)\n",
    "        # TODO: 保存loss最小的模型\n",
    "    \n",
    "    torch.save(best_state,'RNN_model_dict.txt')\n",
    "    \n",
    "    # 绘制loss曲线\n",
    "    plt.figure(figsize=(15,8))\n",
    "    plt.plot(loss_arr, \"-*\")\n",
    "    plt.plot(acc_arr)\n",
    "    plt.legend(['loss','acc'])\n",
    "    plt.xlabel(\"Iteration\",fontsize=15)\n",
    "    plt.ylabel(\"Loss & Accuracy\",fontsize=15)\n",
    "    plt.vlines(best_iter,0,2,linestyles='dashed',color='blue')\n",
    "    plt.hlines(1,0,epoch*(6600//64+1)+(i+1),linestyles='dashed',color='orange')\n",
    "    plt.show()\n",
    "    "
   ]
  },
  {
   "cell_type": "code",
   "execution_count": 74,
   "metadata": {},
   "outputs": [
    {
     "name": "stdout",
     "output_type": "stream",
     "text": [
      "Iteration number: 10 Loss: 1.3816250916570425 Acc: 0.1875\n",
      "Iteration number: 20 Loss: 1.3723514825105667 Acc: 0.34375\n",
      "Iteration number: 30 Loss: 1.367883212864399 Acc: 0.390625\n",
      "Iteration number: 40 Loss: 1.238487333059311 Acc: 0.421875\n",
      "Iteration number: 50 Loss: 1.2997424388304353 Acc: 0.328125\n",
      "Iteration number: 60 Loss: 1.1874716933816671 Acc: 0.59375\n",
      "Iteration number: 70 Loss: 1.2210369603708386 Acc: 0.5625\n",
      "Iteration number: 80 Loss: 1.1129793897271156 Acc: 0.65625\n",
      "Iteration number: 90 Loss: 1.173711915500462 Acc: 0.53125\n",
      "Iteration number: 100 Loss: 1.1693161129951477 Acc: 0.5625\n",
      "Epoch Acc: 0.4660456730769231 Epoch loss 1.2593976438152963\n",
      "The best model until now from: 85 Min loss: 1.0810970319435\n",
      "Iteration number: 10 Loss: 1.0965053476393223 Acc: 0.609375\n",
      "Iteration number: 20 Loss: 1.0181836355477571 Acc: 0.734375\n",
      "Iteration number: 30 Loss: 1.2928839046508074 Acc: 0.421875\n",
      "Iteration number: 40 Loss: 1.382042795419693 Acc: 0.375\n",
      "Iteration number: 50 Loss: 1.3530433624982834 Acc: 0.390625\n",
      "Iteration number: 60 Loss: 1.3842894230037928 Acc: 0.359375\n",
      "Iteration number: 70 Loss: 1.3031949223950505 Acc: 0.515625\n",
      "Iteration number: 80 Loss: 1.270935789681971 Acc: 0.46875\n",
      "Iteration number: 90 Loss: 1.3299750639125705 Acc: 0.421875\n",
      "Iteration number: 100 Loss: 1.3066875720396638 Acc: 0.578125\n",
      "Epoch Acc: 0.47280649038461536 Epoch loss 1.264754220789585\n",
      "The best model until now from: 111 Min loss: 0.9983994839712977\n",
      "Iteration number: 10 Loss: 1.4271777654066682 Acc: 0.3125\n",
      "Iteration number: 20 Loss: 1.2735244808718562 Acc: 0.453125\n",
      "Iteration number: 30 Loss: 1.3057821346446872 Acc: 0.375\n",
      "Iteration number: 40 Loss: 1.294099623337388 Acc: 0.421875\n",
      "Iteration number: 50 Loss: 1.2209307923913002 Acc: 0.515625\n",
      "Iteration number: 60 Loss: 1.1597997564822435 Acc: 0.578125\n",
      "Iteration number: 70 Loss: 1.1069216579198837 Acc: 0.640625\n",
      "Iteration number: 80 Loss: 1.2221397794783115 Acc: 0.515625\n",
      "Iteration number: 90 Loss: 1.170531440526247 Acc: 0.609375\n",
      "Iteration number: 100 Loss: 1.2697328422218561 Acc: 0.515625\n",
      "Epoch Acc: 0.4891826923076923 Epoch loss 1.232891241930282\n",
      "The best model until now from: 111 Min loss: 0.9983994839712977\n",
      "Iteration number: 10 Loss: 1.1869990499690175 Acc: 0.5\n",
      "Iteration number: 20 Loss: 1.1656025554984808 Acc: 0.578125\n",
      "Iteration number: 30 Loss: 1.1577498484402895 Acc: 0.59375\n",
      "Iteration number: 40 Loss: 1.1625765087082982 Acc: 0.625\n",
      "Iteration number: 50 Loss: 1.1040876060724258 Acc: 0.671875\n",
      "Iteration number: 60 Loss: 1.200079151429236 Acc: 0.5\n",
      "Iteration number: 70 Loss: 1.1798374652862549 Acc: 0.546875\n",
      "Iteration number: 80 Loss: 1.0942354584112763 Acc: 0.703125\n",
      "Iteration number: 90 Loss: 1.1053883247077465 Acc: 0.625\n",
      "Iteration number: 100 Loss: 1.0331683838739991 Acc: 0.796875\n",
      "Epoch Acc: 0.5866887019230769 Epoch loss 1.1519105644681706\n",
      "The best model until now from: 111 Min loss: 0.9983994839712977\n",
      "Iteration number: 10 Loss: 1.0633847331628203 Acc: 0.71875\n",
      "Iteration number: 20 Loss: 1.100465283729136 Acc: 0.65625\n",
      "Iteration number: 30 Loss: 1.0480056442320347 Acc: 0.6875\n",
      "Iteration number: 40 Loss: 1.0448305374011397 Acc: 0.71875\n",
      "Iteration number: 50 Loss: 1.170303768478334 Acc: 0.5625\n",
      "Iteration number: 60 Loss: 1.0682281758636236 Acc: 0.71875\n",
      "Iteration number: 70 Loss: 0.9255340211093426 Acc: 0.84375\n",
      "Iteration number: 80 Loss: 0.976765445433557 Acc: 0.734375\n",
      "Iteration number: 90 Loss: 0.9867554008960724 Acc: 0.796875\n",
      "Iteration number: 100 Loss: 1.0021819360554218 Acc: 0.71875\n",
      "Epoch Acc: 0.6687199519230769 Epoch loss 1.0762317160216088\n",
      "The best model until now from: 486 Min loss: 0.9255340211093426\n"
     ]
    },
    {
     "data": {
      "image/png": "[encoded data removed]",
      "text/plain": [
       "<Figure size 1080x576 with 1 Axes>"
      ]
     },
     "metadata": {
      "needs_background": "light"
     },
     "output_type": "display_data"
    }
   ],
   "source": [
    "# RNN训练 具体的参数可以自行调整\n",
    "n_hidden = 128\n",
    "n_input = 50\n",
    "n_output = 4\n",
    "rnn = RNN(n_input, n_hidden, n_output)\n",
    "rnn.to(device)\n",
    "train(rnn, train_iterator, lr=0.0005, num_epoch=5)\n"
   ]
  },
  {
   "cell_type": "markdown",
   "metadata": {},
   "source": [
    "## 四、结果评测"
   ]
  },
  {
   "cell_type": "markdown",
   "metadata": {},
   "source": [
    "计算RNN模型在测试集上的准确率："
   ]
  },
  {
   "cell_type": "code",
   "execution_count": 75,
   "metadata": {},
   "outputs": [],
   "source": [
    "def eval_test(model, iterator):\n",
    "    total_cnt = 0\n",
    "    total_acc = 0\n",
    "    for batch_data in iterator:\n",
    "        texts, text_lengths = batch_data.text\n",
    "        labels = batch_data.label\n",
    "        \n",
    "        for text, label in zip(texts, labels):\n",
    "            hidden = model.init_hidden().to(device)\n",
    "            for i in range(len(text)):\n",
    "                embedding = TEXT.vocab.vectors[text[i]]\n",
    "                embedding = embedding.to(device)\n",
    "                output, hidden = model(embedding.reshape(1, -1), hidden)\n",
    "            \n",
    "            if output.argmax(1) == label - 1:  # 判断预测概率最大的类是否正确\n",
    "                total_acc += 1\n",
    "            total_cnt += 1\n",
    "\n",
    "    print(\"Test Acc:\", total_acc / total_cnt)"
   ]
  },
  {
   "cell_type": "markdown",
   "metadata": {},
   "source": [
    "**请加载效果最好的模型，输出模型在测试集上的准确率**"
   ]
  },
  {
   "cell_type": "code",
   "execution_count": 76,
   "metadata": {},
   "outputs": [
    {
     "name": "stdout",
     "output_type": "stream",
     "text": [
      "Test Acc: 0.702\n"
     ]
    }
   ],
   "source": [
    "# TODO\n",
    "best_model=RNN()\n",
    "best_model.load_state_dict(torch.load('RNN_model_dict.txt'))\n",
    "eval_test(best_model, test_iterator)"
   ]
  },
  {
   "cell_type": "markdown",
   "metadata": {},
   "source": [
    "## 五、附加部分（1'）"
   ]
  },
  {
   "cell_type": "markdown",
   "metadata": {},
   "source": [
    "**可选1 模型优化**：在上述文本分类任务中，只使用了文章的正文内容，没有利用标题中的信息。请尝试加入标题内容，修改模型，以优化模型的分类能力。"
   ]
  },
  {
   "cell_type": "code",
   "execution_count": null,
   "metadata": {},
   "outputs": [],
   "source": []
  },
  {
   "cell_type": "markdown",
   "metadata": {},
   "source": [
    "**可选2 对抗实验**：训练完成后，我们可以得到一个模型能够正确预测的样本构成的集合，请在已有的模型能够正确分类的样本集中设计一些对抗实验。\n",
    "\n",
    "例如：对原始的输入文本随机删去一些词，或是将部分词遮盖（替换）成&lt;unk&gt;，表示未知词。（前面用torchtext构建的TEXT.vocab词表中第一个token是&lt;unk&gt;）\n",
    "\n",
    "这部分可以设置一个适当的比例，比如遮盖/删除20%的词。计算模型对于这样的输入的预测错误率，并尝试改进策略，使得模型在面对“20%的词被遮盖”（或者其他条件）的情况时，错误预测率尽可能低。"
   ]
  },
  {
   "cell_type": "code",
   "execution_count": null,
   "metadata": {},
   "outputs": [],
   "source": []
  }
 ],
 "metadata": {
  "kernelspec": {
   "display_name": "TorchText",
   "language": "python",
   "name": "torchtext"
  },
  "language_info": {
   "codemirror_mode": {
    "name": "ipython",
    "version": 3
   },
   "file_extension": ".py",
   "mimetype": "text/x-python",
   "name": "python",
   "nbconvert_exporter": "python",
   "pygments_lexer": "ipython3",
   "version": "3.9.13"
  }
 },
 "nbformat": 4,
 "nbformat_minor": 4
}
