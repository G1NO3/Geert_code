{
 "cells": [
  {
   "cell_type": "markdown",
   "metadata": {
    "collapsed": true,
    "pycharm": {
     "name": "#%% md\n"
    }
   },
   "source": [
    "# 1. 神经网络结构设计与调优\n",
    "在人工构造的MNIST数据集的子集上进行训练/测试，要求：\n",
    "\n",
    "（1）参考课件中给出的代码，实现以下两种不同的网络结构（要求用numpy手动实现前向传播和反向传播等过程）：\n",
    "- 2层前馈网络，激活函数sigmoid或tanh，隐含层维度自定\n",
    "- 3层前馈网络，激活函数relu，隐含层维度自定\n",
    "\n",
    "（2）两个网络在测试集上分类准确率均$\\ge$85%\n",
    "\n",
    "（3）画出训练过程中训练集上loss和训练集上accuracy的变化曲线\n",
    "\n",
    "本次作业可能涉及到的激活函数的定义及其导函数：\n",
    "- $sigmoid(x)=1/(1+e^{-x})$, 导函数$sigmoid(x)(1-sigmoid(x))$\n",
    "- $tanh(x)=(e^x-e^{-x})/(e^x+e^{-x})$，导函数$1-tanh^2(x)$\n",
    "- $relu(x)=max(0,x)$，导函数$f(x)=\\begin{cases}1, x>0 \\\\ 0, x\\le0\\end{cases}$\n",
    "\n",
    "（附加）调优上一步实现的网络：\n",
    "- batch size，iteration\n",
    "- loss function（MSE，交叉熵……）\n",
    "- 优化器的参数（学习率，学习率调整策略，优化器类型……）\n",
    "- 网络权重初始化策略\n",
    "- 数据预处理/增强\n",
    "\n",
    "<font color=ff0000> ⚠️截止日期 5.16 中午 11:59，如果做了附加题调优，请在作业中注释出调优部分。⚠️</font>"
   ]
  },
  {
   "cell_type": "code",
   "execution_count": 1,
   "metadata": {
    "pycharm": {
     "is_executing": false,
     "name": "#%%\n"
    }
   },
   "outputs": [
    {
     "name": "stdout",
     "output_type": "stream",
     "text": [
      "(1000, 784)\n",
      "(1000,)\n",
      "(200, 784)\n",
      "(200,)\n"
     ]
    }
   ],
   "source": [
    "# 读取训练和测试数据\n",
    "# 本次作业为加快训练速度，只取1000个样本作为训练集，200个样本作为测试集\n",
    "# 每个样本原本是28*28的图片，reshape成784维向量输入神经网络\n",
    "# 只取（形状比较相近的）数字8和数字9两个类，做二分类，并将数字8的label重新标为0，数字9的label重新标为1\n",
    "# 两个类的训练样本数不均衡（1:3）\n",
    "# 本部分代码不可修改\n",
    "\n",
    "import numpy as np\n",
    "from tqdm import tqdm\n",
    "import matplotlib.pyplot as plt\n",
    "f = np.load('mnist.npz') \n",
    "x_train, y_train = f['x_train'], f['y_train'] \n",
    "x_test, y_test = f['x_test'], f['y_test'] \n",
    "\n",
    "def get_small_data(x_data, y_data, num1, num2):\n",
    "    cnt1, cnt2, final_x, final_y = 0, 0, [], []\n",
    "    for i in range(x_data.shape[0]):\n",
    "        x = x_data[i, :].reshape(-1).tolist()\n",
    "        y = y_data[i]\n",
    "        if y == 8 and cnt1 < num1:\n",
    "            final_x.append(x)\n",
    "            final_y.append(0)\n",
    "            cnt1 += 1\n",
    "        elif y == 9 and cnt2 < num2:\n",
    "            final_x.append(x)\n",
    "            final_y.append(1)\n",
    "            cnt2 += 1\n",
    "    return np.array(final_x), np.array(final_y)\n",
    "\n",
    "x_train, y_train = get_small_data(x_train, y_train, num1=250, num2=750)\n",
    "x_test, y_test = get_small_data(x_test, y_test, num1=100, num2=100)\n",
    "print(x_train.shape)\n",
    "print(y_train.shape)\n",
    "print(x_test.shape)\n",
    "print(y_test.shape)\n",
    "y_train=y_train.reshape(-1,1)"
   ]
  },
  {
   "cell_type": "code",
   "execution_count": 2,
   "metadata": {},
   "outputs": [],
   "source": [
    "import numpy as np\n",
    "import matplotlib.pyplot as plt\n",
    "\n",
    "def sigmoid(x):\n",
    "    return 1/(1+np.exp(-x))\n",
    "def tanh(x):\n",
    "    return (np.exp(x)-np.exp(-x))/(np.exp(x)+np.exp(-x))"
   ]
  },
  {
   "cell_type": "code",
   "execution_count": 10,
   "metadata": {},
   "outputs": [
    {
     "name": "stderr",
     "output_type": "stream",
     "text": [
      "C:\\Users\\G1\\AppData\\Local\\Temp/ipykernel_2860/872248959.py:2: RuntimeWarning: overflow encountered in exp\n",
      "  return 1/(1+np.exp(-x))\n"
     ]
    },
    {
     "name": "stdout",
     "output_type": "stream",
     "text": [
      "Epoch:1,Accuracy:0.512\n",
      "Epoch:100,Accuracy:0.851\n",
      "Epoch:200,Accuracy:0.909\n",
      "Epoch:300,Accuracy:0.924\n",
      "Epoch:400,Accuracy:0.933\n",
      "Epoch:500,Accuracy:0.939\n",
      "Epoch:600,Accuracy:0.94\n",
      "Epoch:700,Accuracy:0.946\n",
      "Epoch:800,Accuracy:0.948\n",
      "Epoch:900,Accuracy:0.946\n",
      "Epoch:1000,Accuracy:0.948\n"
     ]
    },
    {
     "data": {
      "text/plain": [
       "<matplotlib.legend.Legend at 0x24077e0b0a0>"
      ]
     },
     "execution_count": 10,
     "metadata": {},
     "output_type": "execute_result"
    },
    {
     "data": {
      "image/png": "[encoded data removed]",
      "text/plain": [
       "<Figure size 432x288 with 1 Axes>"
      ]
     },
     "metadata": {
      "needs_background": "light"
     },
     "output_type": "display_data"
    }
   ],
   "source": [
    "\n",
    "learning_rate=0.001\n",
    "W1=np.random.uniform(-1,1,size=(784,50))\n",
    "W2=np.random.uniform(-1,1,size=(50,1))\n",
    "N=1000\n",
    "def train(W1,W2,x,y):\n",
    "    neth=x@W1\n",
    "    outh=sigmoid(neth)\n",
    "    neto=outh@W2\n",
    "    outo=sigmoid(neto)\n",
    "    #反向传播，采用MSE做loss函数\n",
    "    pd_neto=(outo-y)*outo*(1-outo)\n",
    "    pd_W2=outh.T@pd_neto\n",
    "    pd_outh=pd_neto@W2.T\n",
    "    pd_neth=pd_outh*outh*(1-outh)\n",
    "    pd_W1=x.T@pd_neth\n",
    "    \n",
    "    W1-=learning_rate*pd_W1\n",
    "    W2-=learning_rate*pd_W2\n",
    "    \n",
    "    loss=np.sum((outo-y)**2)/N\n",
    "    accuracy=np.sum((outo>=0.5)==y)/N\n",
    "    return outo,W1,W2,loss,accuracy\n",
    "\n",
    "loss_=[]\n",
    "accuracy_=[]\n",
    "for i in range(1000):\n",
    "    outo,W1,W2,loss,accuracy=train(W1,W2,x_train,y_train)\n",
    "    loss_.append(loss)\n",
    "    accuracy_.append(accuracy)\n",
    "    if i==0 or (i+1)%100==0:\n",
    "        print(f'Epoch:{i+1},Accuracy:{accuracy_[-1]}')\n",
    "plt.plot(loss_)\n",
    "plt.plot(accuracy_)\n",
    "plt.legend(['loss','accuracy'])"
   ]
  },
  {
   "cell_type": "code",
   "execution_count": 11,
   "metadata": {},
   "outputs": [
    {
     "name": "stdout",
     "output_type": "stream",
     "text": [
      "Test Accuracy:0.875\n"
     ]
    },
    {
     "name": "stderr",
     "output_type": "stream",
     "text": [
      "C:\\Users\\G1\\AppData\\Local\\Temp/ipykernel_2860/872248959.py:2: RuntimeWarning: overflow encountered in exp\n",
      "  return 1/(1+np.exp(-x))\n"
     ]
    }
   ],
   "source": [
    "N=200\n",
    "y_test=y_test.reshape(-1,1)\n",
    "neth=x_test@W1\n",
    "outh=sigmoid(neth)\n",
    "neto=outh@W2\n",
    "outo=sigmoid(neto)\n",
    "accuracy=np.sum((outo>=0.5)==y_test)/N\n",
    "print(f'Test Accuracy:{accuracy}')"
   ]
  },
  {
   "cell_type": "code",
   "execution_count": 20,
   "metadata": {
    "scrolled": false
   },
   "outputs": [
    {
     "name": "stdout",
     "output_type": "stream",
     "text": [
      "Epoch:1,Accuracy:0.551\n",
      "[[  -25.54322571]\n",
      " [-1821.84520027]\n",
      " [ -222.63031329]]\n",
      "Epoch:1000,Accuracy:0.957\n",
      "[[ 2.45472993e+01]\n",
      " [-3.56503880e+01]\n",
      " [ 5.95458462e-03]]\n",
      "Epoch:2000,Accuracy:0.96\n",
      "[[ 1.72326842e+01]\n",
      " [-2.48719862e+01]\n",
      " [ 8.05014166e-04]]\n",
      "Epoch:3000,Accuracy:0.96\n",
      "[[ 14.07125919]\n",
      " [-20.14146266]\n",
      " [  0.        ]]\n",
      "Epoch:4000,Accuracy:0.961\n",
      "[[ 12.19274928]\n",
      " [-17.36819632]\n",
      " [  0.        ]]\n"
     ]
    },
    {
     "data": {
      "text/plain": [
       "<matplotlib.legend.Legend at 0x2394527b310>"
      ]
     },
     "execution_count": 20,
     "metadata": {},
     "output_type": "execute_result"
    },
    {
     "data": {
      "image/png": "[encoded data removed]",
      "text/plain": [
       "<Figure size 432x288 with 1 Axes>"
      ]
     },
     "metadata": {
      "needs_background": "light"
     },
     "output_type": "display_data"
    }
   ],
   "source": [
    "def relu(x):\n",
    "    return np.maximum(0,x)\n",
    "def df_relu(x):\n",
    "    return x>=0\n",
    "#HE initialization\n",
    "W1=np.random.randn(784,50)*np.sqrt(2/1000)\n",
    "W2=np.random.randn(50,3)*np.sqrt(2/500)\n",
    "W3=np.random.randn(3,1)*np.sqrt(2/500)\n",
    "x_train=x_train/255\n",
    "\n",
    "learning_rate=1e-5\n",
    "N=1000\n",
    "def train(W1,W2,W3,x,y):\n",
    "    neth1=x@W1\n",
    "    outh1=relu(neth1)\n",
    "    neth2=outh1@W2\n",
    "    outh2=relu(neth2)\n",
    "    neto=outh2@W3\n",
    "    std=np.std(neto)\n",
    "    neto/=std\n",
    "    outo=sigmoid(neto)\n",
    "    #反向传播，采取MSE做loss函数\n",
    "    #倒数第一层\n",
    "    pd_neto=(outo-y)*outo*(1-outo)/std\n",
    "    pd_W3=outh2.T@pd_neto\n",
    "    #倒数第二层\n",
    "    pd_outh2=pd_neto@W3.T\n",
    "    pd_neth2=pd_outh2*df_relu(neth2)\n",
    "    pd_W2=outh1.T@pd_neth2\n",
    "    #倒数第三层\n",
    "    pd_outh1=pd_neth2@W2.T\n",
    "    pd_neth1=pd_outh1*df_relu(neth1)\n",
    "    pd_W1=x.T@pd_neth1\n",
    "    \n",
    "    W1-=learning_rate*pd_W1\n",
    "    W2-=learning_rate*pd_W2\n",
    "    W3-=learning_rate*pd_W3\n",
    "    loss=np.sum((outo-y)**2)/N\n",
    "    accuracy=np.sum((outo>=0.5)==y)/N\n",
    "    return W1,W2,W3,loss,accuracy,pd_W3\n",
    "\n",
    "loss_=[]\n",
    "accuracy_=[]\n",
    "for i in range(4000):\n",
    "    W1,W2,W3,loss,accuracy,pd_W3=train(W1,W2,W3,x_train,y_train)\n",
    "    loss_.append(loss)\n",
    "    accuracy_.append(accuracy)\n",
    "    if i==0 or (i+1)%1000==0:\n",
    "        print(f'Epoch:{i+1},Accuracy:{accuracy}')\n",
    "plt.plot(loss_)\n",
    "plt.plot(accuracy_)\n",
    "plt.legend(['loss','accuracy'])\n",
    "    \n",
    "   "
   ]
  },
  {
   "cell_type": "code",
   "execution_count": 21,
   "metadata": {},
   "outputs": [
    {
     "name": "stdout",
     "output_type": "stream",
     "text": [
      "Test Accuracy:0.85\n"
     ]
    }
   ],
   "source": [
    "y_test=y_test.reshape(-1,1)\n",
    "x_test=x_test/255\n",
    "N=200\n",
    "neth1=x_test@W1\n",
    "outh1=relu(neth1)\n",
    "neth2=outh1@W2\n",
    "outh2=relu(neth2)\n",
    "neto=outh2@W3\n",
    "outo=sigmoid(neto)\n",
    "accuracy=np.sum((outo>=0.5)==y_test)/N\n",
    "print(f'Test Accuracy:{accuracy}')"
   ]
  }
 ],
 "metadata": {
  "interpreter": {
   "hash": "c277854b97e67b555ee3aceb75dac329af7410d92a08b58aaf178f15c36d50bd"
  },
  "kernelspec": {
   "display_name": "Python 3 (ipykernel)",
   "language": "python",
   "name": "python3"
  },
  "language_info": {
   "codemirror_mode": {
    "name": "ipython",
    "version": 3
   },
   "file_extension": ".py",
   "mimetype": "text/x-python",
   "name": "python",
   "nbconvert_exporter": "python",
   "pygments_lexer": "ipython3",
   "version": "3.9.7"
  },
  "pycharm": {
   "stem_cell": {
    "cell_type": "raw",
    "metadata": {
     "collapsed": false
    },
    "source": []
   }
  }
 },
 "nbformat": 4,
 "nbformat_minor": 1
}
